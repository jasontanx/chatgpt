{
  "nbformat": 4,
  "nbformat_minor": 0,
  "metadata": {
    "colab": {
      "provenance": []
    },
    "kernelspec": {
      "name": "python3",
      "display_name": "Python 3"
    },
    "language_info": {
      "name": "python"
    },
    "accelerator": "GPU",
    "gpuClass": "standard"
  },
  "cells": [
    {
      "cell_type": "code",
      "execution_count": 3,
      "metadata": {
        "colab": {
          "base_uri": "https://localhost:8080/"
        },
        "id": "8keaLKpJDo2h",
        "outputId": "a8aad1bc-851a-4d18-a5d9-18eea3cda055"
      },
      "outputs": [
        {
          "output_type": "stream",
          "name": "stdout",
          "text": [
            "\u001b[2K     \u001b[90m━━━━━━━━━━━━━━━━━━━━━━━━━━━━━━━━━━━━━━━━\u001b[0m \u001b[32m70.3/70.3 KB\u001b[0m \u001b[31m2.4 MB/s\u001b[0m eta \u001b[36m0:00:00\u001b[0m\n",
            "\u001b[2K     \u001b[90m━━━━━━━━━━━━━━━━━━━━━━━━━━━━━━━━━━━━━━━━\u001b[0m \u001b[32m1.0/1.0 MB\u001b[0m \u001b[31m22.3 MB/s\u001b[0m eta \u001b[36m0:00:00\u001b[0m\n",
            "\u001b[2K     \u001b[90m━━━━━━━━━━━━━━━━━━━━━━━━━━━━━━━━━━━━━━\u001b[0m \u001b[32m114.2/114.2 KB\u001b[0m \u001b[31m12.4 MB/s\u001b[0m eta \u001b[36m0:00:00\u001b[0m\n",
            "\u001b[2K     \u001b[90m━━━━━━━━━━━━━━━━━━━━━━━━━━━━━━━━━━━━━━\u001b[0m \u001b[32m264.6/264.6 KB\u001b[0m \u001b[31m22.4 MB/s\u001b[0m eta \u001b[36m0:00:00\u001b[0m\n",
            "\u001b[2K     \u001b[90m━━━━━━━━━━━━━━━━━━━━━━━━━━━━━━━━━━━━━━\u001b[0m \u001b[32m158.8/158.8 KB\u001b[0m \u001b[31m18.1 MB/s\u001b[0m eta \u001b[36m0:00:00\u001b[0m\n",
            "\u001b[?25h"
          ]
        }
      ],
      "source": [
        "# installation & set-up\n",
        "\n",
        "!pip install -q openai"
      ]
    },
    {
      "cell_type": "code",
      "source": [
        "# import package\n",
        "\n",
        "import openai"
      ],
      "metadata": {
        "id": "ceRcp9NCD59X"
      },
      "execution_count": 4,
      "outputs": []
    },
    {
      "cell_type": "code",
      "source": [
        "# openai key\n",
        "openai.api_key = '[INSERT OPENAI KEY]'"
      ],
      "metadata": {
        "id": "6LcVs3imD3EE"
      },
      "execution_count": 5,
      "outputs": []
    },
    {
      "cell_type": "code",
      "source": [
        "'''\n",
        "Run as GPU\n",
        "\n",
        "Runtime > change runtime type > select GPU\n",
        "\n",
        "'''"
      ],
      "metadata": {
        "id": "jIKVgKhNKs9J"
      },
      "execution_count": null,
      "outputs": []
    },
    {
      "cell_type": "code",
      "source": [
        "'''\n",
        "call chatgpt\n",
        "\n",
        "'''\n",
        "\n",
        "# Set up the model and prompt\n",
        "model_engine = \"text-davinci-003\"\n",
        "\n",
        "# Set response until otherwise cancelled\n",
        "prompt = input(\"🤖 Hi, how can I help you today?\\n\")\n",
        "\n",
        "while prompt.lower() not in (\"no\", \"n\", \"no!\", \"you can't\", \"you cant\", \"nothing\", \"停止\", \"end\"):\n",
        "    # Generate a response\n",
        "    completion = openai.Completion.create(\n",
        "        engine=model_engine,\n",
        "        prompt=prompt,\n",
        "        # max_tokens=1024,\n",
        "        n=1,\n",
        "        stop=None,\n",
        "        temperature=0.5,\n",
        "    )\n",
        "\n",
        "    response = completion.choices[0].text\n",
        "    print(f'🤖 {response}')\n",
        "    \n",
        "    prompt = input(\"🤖 What else can I help you with?\\n\")\n",
        "\n",
        "print(\"🤖...\")"
      ],
      "metadata": {
        "id": "uuDOWYUeKOFM"
      },
      "execution_count": null,
      "outputs": []
    }
  ]
}